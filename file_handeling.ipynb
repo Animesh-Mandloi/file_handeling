{
 "cells": [
  {
   "cell_type": "markdown",
   "id": "de05b18a-e231-450a-a984-f16530034e53",
   "metadata": {},
   "source": [
    " file_path means location where you have stored your file"
   ]
  },
  {
   "cell_type": "code",
   "execution_count": null,
   "id": "ed1b5cd8-5662-4b05-b236-546aceccc3c0",
   "metadata": {},
   "outputs": [],
   "source": [
    "#Python Code to Read Contents of a File:\n",
    "def read_file(file_path):\n",
    "    with open(file_path, 'r') as file:\n",
    "        content = file.read()\n",
    "    return content\n"
   ]
  },
  {
   "cell_type": "code",
   "execution_count": null,
   "id": "f759df03-9aae-4a31-ada6-2b3ab798c4c2",
   "metadata": {},
   "outputs": [],
   "source": [
    "#Python Code to Write to a File:\n",
    "def write_file(file_path, content):\n",
    "    with open(file_path, 'w') as file:\n",
    "        file.write(content)\n"
   ]
  },
  {
   "cell_type": "code",
   "execution_count": null,
   "id": "32c5e86d-dd36-4b86-bd6a-af5cc66c268e",
   "metadata": {},
   "outputs": [],
   "source": [
    "#Python Code to Append to a File:\n",
    "def append_to_file(file_path, content):\n",
    "    with open(file_path, 'a') as file:\n",
    "        file.write(content)\n"
   ]
  },
  {
   "cell_type": "code",
   "execution_count": null,
   "id": "fd5bd96f-13b1-41e0-9230-362e1ad425f5",
   "metadata": {},
   "outputs": [],
   "source": [
    "#Python Code to Use Buffered I/O for File Reading:\n",
    "def buffered_read_file(file_path):\n",
    "    with open(file_path, 'r', buffering=1) as file:\n",
    "        content = file.read()\n",
    "    return content\n"
   ]
  },
  {
   "cell_type": "code",
   "execution_count": null,
   "id": "0d1ea815-e1e8-43cd-bfab-60cef724f68c",
   "metadata": {},
   "outputs": [],
   "source": [
    "#Python Code to Write to a File Using Buffered I/O:\n",
    "def buffered_write_file(file_path, content):\n",
    "    with open(file_path, 'w', buffering=1) as file:\n",
    "        file.write(content)\n"
   ]
  },
  {
   "cell_type": "code",
   "execution_count": null,
   "id": "6611437c-a399-459f-ae75-2a66316ff9e7",
   "metadata": {},
   "outputs": [],
   "source": [
    "#Python Function to Read a File Using Buffered I/O:\n",
    "def buffered_read_file(file_path):\n",
    "    with open(file_path, 'r', buffering=io.DEFAULT_BUFFER_SIZE) as file:\n",
    "        content = file.read()\n",
    "    return content\n"
   ]
  },
  {
   "cell_type": "code",
   "execution_count": null,
   "id": "1f6a3f6f-c113-4fc4-a8ec-c4e1f3365446",
   "metadata": {},
   "outputs": [],
   "source": [
    "#Python Code to Append Content to a File Using Buffered I/O:\n",
    "def buffered_append_to_file(file_path, content):\n",
    "    with open(file_path, 'a', buffering=io.DEFAULT_BUFFER_SIZE) as file:\n",
    "        file.write(content)\n"
   ]
  },
  {
   "cell_type": "code",
   "execution_count": null,
   "id": "0f88edd8-c5c3-45cd-8749-57efaf08fc32",
   "metadata": {},
   "outputs": [],
   "source": [
    "#"
   ]
  },
  {
   "cell_type": "code",
   "execution_count": null,
   "id": "09ff3969-0a2a-4442-a5e0-d4be900f28db",
   "metadata": {},
   "outputs": [],
   "source": []
  }
 ],
 "metadata": {
  "kernelspec": {
   "display_name": "Python 3 (ipykernel)",
   "language": "python",
   "name": "python3"
  },
  "language_info": {
   "codemirror_mode": {
    "name": "ipython",
    "version": 3
   },
   "file_extension": ".py",
   "mimetype": "text/x-python",
   "name": "python",
   "nbconvert_exporter": "python",
   "pygments_lexer": "ipython3",
   "version": "3.12.2"
  }
 },
 "nbformat": 4,
 "nbformat_minor": 5
}
